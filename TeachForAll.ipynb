{
  "nbformat": 4,
  "nbformat_minor": 0,
  "metadata": {
    "colab": {
      "provenance": [],
      "authorship_tag": "ABX9TyO3Fg1sBP33yU6y7XLU5c2s",
      "include_colab_link": true
    },
    "kernelspec": {
      "name": "python3",
      "display_name": "Python 3"
    },
    "language_info": {
      "name": "python"
    }
  },
  "cells": [
    {
      "cell_type": "markdown",
      "metadata": {
        "id": "view-in-github",
        "colab_type": "text"
      },
      "source": [
        "<a href=\"https://colab.research.google.com/github/valecapra/teach_for_italy/blob/main/TeachForAll.ipynb\" target=\"_parent\"><img src=\"https://colab.research.google.com/assets/colab-badge.svg\" alt=\"Open In Colab\"/></a>"
      ]
    },
    {
      "cell_type": "code",
      "source": [
        "# Introduzione\n",
        "print(\"👋 Ehi! Benvenuto nel tuo *Personal Money Helper* 💰\")\n",
        "print(\"Questo piccolo tool ti aiuterà a gestire meglio i tuoi soldi, capire quanto puoi spendere e come risparmiare per i tuoi obiettivi 🧠💸\")\n",
        "print(\"Pronto a diventare il boss delle tue finanze? Iniziamo! 🚀\")"
      ],
      "metadata": {
        "colab": {
          "base_uri": "https://localhost:8080/"
        },
        "id": "LtoUgaOp0WeJ",
        "outputId": "297ffa49-4cc4-49c4-fdc8-e6b68deddf29"
      },
      "execution_count": 26,
      "outputs": [
        {
          "output_type": "stream",
          "name": "stdout",
          "text": [
            "👋 Ehi! Benvenuto nel tuo *Personal Money Helper* 💰\n",
            "Questo piccolo tool ti aiuterà a gestire meglio i tuoi soldi, capire quanto puoi spendere e come risparmiare per i tuoi obiettivi 🧠💸\n",
            "Pronto a diventare il boss delle tue finanze? Iniziamo! 🚀\n"
          ]
        }
      ]
    },
    {
      "cell_type": "code",
      "execution_count": 22,
      "metadata": {
        "id": "za4rDDv-C68l"
      },
      "outputs": [],
      "source": [
        "# Q1 - Quanto devo risparmiare per comprare l'oggetto dei miei sogni?\n",
        "\n",
        "def quanto_devo_risparmiare(costo_obiettivo, settimane):\n",
        "    if settimane <= 0:\n",
        "        print(\"⚠️ Il numero di settimane deve essere maggiore di zero.\")\n",
        "        return None\n",
        "\n",
        "    print(f\"🎯 Obiettivo da raggiungere: {costo_obiettivo}€\")\n",
        "    print(f\"📅 Tempo per raggiungerlo: {settimane} settimane\")\n",
        "\n",
        "    risparmio_settimanale = costo_obiettivo / settimane\n",
        "    print(f\"💰 Dovrai mettere da parte ogni settimana: {round(risparmio_settimanale, 2)}€\")\n",
        "\n",
        "    return round(risparmio_settimanale, 2)"
      ]
    },
    {
      "cell_type": "code",
      "source": [
        "oggetto_da_comprare = 300\n",
        "settimane = 5\n",
        "\n",
        "print(quanto_devo_risparmiare(oggetto_da_comprare, settimane))"
      ],
      "metadata": {
        "colab": {
          "base_uri": "https://localhost:8080/"
        },
        "id": "F0a6-_gjv6Yl",
        "outputId": "61b40955-d717-4073-c8ea-e2f4aebb2550"
      },
      "execution_count": 23,
      "outputs": [
        {
          "output_type": "stream",
          "name": "stdout",
          "text": [
            "🎯 Obiettivo da raggiungere: 300€\n",
            "📅 Tempo per raggiungerlo: 5 settimane\n",
            "💰 Dovrai mettere da parte ogni settimana: 60.0€\n",
            "60.0\n"
          ]
        }
      ]
    },
    {
      "cell_type": "code",
      "source": [
        "# Q2 - Quanto sconto c'è sull'articolo che mi interessa?\n",
        "\n",
        "def applica_sconto(prezzo_iniziale, percentuale_sconto):\n",
        "    print(f\"Prezzo iniziale: {prezzo_iniziale}€\")\n",
        "    print(f\"La percentuale di sconto è: {percentuale_sconto}%\")\n",
        "\n",
        "    sconto = prezzo_iniziale * (percentuale_sconto / 100)\n",
        "    print(f\"Lo sconto calcolato è: {round(sconto, 2)}€\")\n",
        "\n",
        "    prezzo_finale = prezzo_iniziale - sconto\n",
        "    print(f\"Il prezzo finale, dopo lo sconto, è: {round(prezzo_finale, 2)}€\")\n",
        "\n",
        "    return round(prezzo_finale, 2), round(sconto, 2)"
      ],
      "metadata": {
        "id": "JL-p5vLby6XD"
      },
      "execution_count": 18,
      "outputs": []
    },
    {
      "cell_type": "code",
      "source": [
        "# 🛍️ 1. Inserisci il prezzo dell'oggetto che ti piacerebbe comprare\n",
        "prezzo_iniziale = 100\n",
        "\n",
        "# 🔖 2. Inserisci la percentuale di sconto che hai trovato (tipo 20% di sconto)\n",
        "percentuale_sconto = 20\n",
        "\n",
        "# 💸 Qui calcoliamo insieme quanto dovrai pagare davvero dopo lo sconto\n",
        "applica_sconto(prezzo_iniziale, percentuale_sconto)"
      ],
      "metadata": {
        "colab": {
          "base_uri": "https://localhost:8080/"
        },
        "id": "vJ_OD5T_zTcu",
        "outputId": "b4b037c7-b164-4862-c922-23876910f221"
      },
      "execution_count": 19,
      "outputs": [
        {
          "output_type": "stream",
          "name": "stdout",
          "text": [
            "Prezzo iniziale: 100€\n",
            "La percentuale di sconto è: 20%\n",
            "Lo sconto calcolato è: 20.0€\n",
            "Il prezzo finale, dopo lo sconto, è: 80.0€\n"
          ]
        },
        {
          "output_type": "execute_result",
          "data": {
            "text/plain": [
              "(80.0, 20.0)"
            ]
          },
          "metadata": {},
          "execution_count": 19
        }
      ]
    },
    {
      "cell_type": "code",
      "source": [
        "# Q3 - Qual è il mio budget settimanale? Sono in credito o in debito?\n",
        "\n",
        "def calcola_budget(entrate_settimanali, spese_fisse_lista, spese_svago_lista):\n",
        "    print(f\"💵 Entrate settimanali: {entrate_settimanali}€\")\n",
        "\n",
        "    totale_spese_fisse = sum(spese_fisse_lista)\n",
        "    print(f\"📌 Totale spese fisse (es. quaderni, abbonamenti, trasporti): {totale_spese_fisse}€\")\n",
        "\n",
        "    totale_spese_svago = sum(spese_svago_lista)\n",
        "    print(f\"🎉 Totale spese per lo svago (es. merende, uscite): {totale_spese_svago}€\")\n",
        "\n",
        "    totale_spese = totale_spese_fisse + totale_spese_svago\n",
        "    print(f\"🧾 Spese totali della settimana: {totale_spese}€\")\n",
        "\n",
        "    budget_libero = entrate_settimanali - totale_spese\n",
        "    print(f\"📊 Budget rimanente: {round(budget_libero, 2)}€\")\n",
        "\n",
        "    if budget_libero > 0:\n",
        "        print(\"✅ Sei in credito! Ottimo lavoro!\")\n",
        "    elif budget_libero < 0:\n",
        "        print(\"⚠️ Attenzione! Sei in debito questa settimana.\")\n",
        "    else:\n",
        "        print(\"➖ Hai speso esattamente quanto hai guadagnato.\")\n",
        "\n",
        "    return round(budget_libero, 2)"
      ],
      "metadata": {
        "id": "FI0XFHVkwJ2x"
      },
      "execution_count": 24,
      "outputs": []
    },
    {
      "cell_type": "code",
      "source": [
        "# 🔢 Inserisci i tuoi dati qui sotto\n",
        "\n",
        "# Quanto guadagni a settimana? Scrivi il valore in euro.\n",
        "entrate_settimanali = 50\n",
        "\n",
        "# ✏️ Spese fisse (esempio: quaderni, internet, autobus)\n",
        "# Qui aggiungi le tue spese fisse settimanali in euro.\n",
        "# Puoi aggiungere altre spese fisse, per esempio:\n",
        "# spesa_gomme_da_masticare = 2\n",
        "# spesa_abbonamento_palestra = 10\n",
        "spese_quaderni = 25\n",
        "spese_internet_cellulare = 5\n",
        "spese_autobus = 15\n",
        "spese_fisse_lista = [spese_quaderni, spese_internet_cellulare, spese_autobus]\n",
        "\n",
        "# 🍔 Spese per svago (esempio: merenda, cinema, uscite)\n",
        "# Qui aggiungi le tue spese per svago settimanali in euro.\n",
        "# Puoi aggiungere altre spese per svago, per esempio:\n",
        "# spesa_caffè_con_amici = 5\n",
        "spese_merenda = 10\n",
        "spese_svago_lista = [spese_merenda]\n",
        "\n",
        "# 📊 Calcolo finale del budget\n",
        "calcola_budget(entrate_settimanali, spese_fisse_lista, spese_svago_lista)"
      ],
      "metadata": {
        "colab": {
          "base_uri": "https://localhost:8080/"
        },
        "id": "BjpSW-1ew1yv",
        "outputId": "eb31c72e-9f11-4c92-af18-e26fc1050045"
      },
      "execution_count": 25,
      "outputs": [
        {
          "output_type": "stream",
          "name": "stdout",
          "text": [
            "💵 Entrate settimanali: 50€\n",
            "📌 Totale spese fisse (es. quaderni, abbonamenti, trasporti): 45€\n",
            "🎉 Totale spese per lo svago (es. merende, uscite): 10€\n",
            "🧾 Spese totali della settimana: 55€\n",
            "📊 Budget rimanente: -5€\n",
            "⚠️ Attenzione! Sei in debito questa settimana.\n"
          ]
        },
        {
          "output_type": "execute_result",
          "data": {
            "text/plain": [
              "-5"
            ]
          },
          "metadata": {},
          "execution_count": 25
        }
      ]
    },
    {
      "cell_type": "code",
      "source": [
        "# Q4 - Quanto mi costa un vizio in un anno? Funzone Interattiva\n",
        "\n",
        "def costo_annuale_vizio(prezzo_unitario, frequenza_settimanale):\n",
        "    # Calcoliamo quanto spendi in un anno per questo piccolo vizio\n",
        "    spesa_annuale = prezzo_unitario * frequenza_settimanale * 52\n",
        "\n",
        "    # Stampiamo un messaggio carino per farti capire bene la cifra\n",
        "    print(f\"Ok, se spendi {prezzo_unitario} euro ogni volta che prendi uno snack o una bibita,\")\n",
        "    print(f\"e lo fai {frequenza_settimanale} volte alla settimana,\")\n",
        "    print(f\"alla fine dell'anno avrai speso circa {round(spesa_annuale, 2)} euro solo per questo!\")\n",
        "    print(\"Forse è il caso di iniziare a pensarci un po' su… 😅\")\n",
        "\n",
        "    return spesa_annuale\n",
        "\n",
        "# Qui ti chiedo qualche info per capire quanto spendi veramente\n",
        "prezzo = float(input(\"Quanto costa in media uno snack o una bibita fuori casa? (es. 3 euro): \"))\n",
        "frequenza = int(input(\"Quante volte a settimana compri snack o bibite fuori casa? (es. 4): \"))\n",
        "\n",
        "# Facciamo il calcolo insieme!\n",
        "costo_annuale_vizio(prezzo, frequenza)"
      ],
      "metadata": {
        "colab": {
          "base_uri": "https://localhost:8080/"
        },
        "id": "LgVuTiZL11za",
        "outputId": "00e7736d-749e-4441-bf63-ab929a008de3"
      },
      "execution_count": 28,
      "outputs": [
        {
          "output_type": "stream",
          "name": "stdout",
          "text": [
            "Quanto costa in media uno snack o una bibita fuori casa? (es. 3 euro): 3\n",
            "Quante volte a settimana compri snack o bibite fuori casa? (es. 4): 3\n",
            "Ok, se spendi 3.0 euro ogni volta che prendi uno snack o una bibita,\n",
            "e lo fai 3 volte alla settimana,\n",
            "alla fine dell'anno avrai speso circa 468.0 euro solo per questo!\n",
            "Forse è il caso di iniziare a pensarci un po' su… 😅\n"
          ]
        },
        {
          "output_type": "execute_result",
          "data": {
            "text/plain": [
              "468.0"
            ]
          },
          "metadata": {},
          "execution_count": 28
        }
      ]
    },
    {
      "cell_type": "code",
      "source": [],
      "metadata": {
        "id": "F_5KL1QTzZqM"
      },
      "execution_count": null,
      "outputs": []
    }
  ]
}